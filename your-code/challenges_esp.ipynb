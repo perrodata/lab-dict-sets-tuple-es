{
    "cells": [
     {
      "cell_type": "markdown",
      "metadata": {},
      "source": [
       "## Desafío 1: Tuplas\n",
       "\n",
       "#### ¿Sabías que puedes crear tuplas con solo un elemento?\n",
       "\n",
       "**En la celda de abajo, define una variable `tup` con un único elemento `\"I\"`.**"
      ]
     },
     {
      "cell_type": "code",
      "execution_count": 1,
      "metadata": {},
      "outputs": [],
      "source": [
       "tup = ('I')"
      ]
     },
     {
      "cell_type": "markdown",
      "metadata": {},
      "source": [
       "#### Imprime el tipo de `tup`.\n",
       "\n",
       "Asegúrate de que su tipo sea correcto (es decir, *tuple* en lugar de *str*)."
      ]
     },
     {
      "cell_type": "code",
      "execution_count": 2,
      "metadata": {},
      "outputs": [
       {
        "name": "stdout",
        "output_type": "stream",
        "text": [
         "I\n"
        ]
       }
      ],
      "source": [
       "print(tup)"
      ]
     },
     {
      "cell_type": "markdown",
      "metadata": {},
      "source": [
       "#### Ahora intenta agregar los siguientes elementos a `tup`.\n",
       "\n",
       "¿Puedes hacerlo? Explica.\n",
       "\n",
       "```\n",
       "\"r\", \"o\", \"n\", \"h\", \"a\", \"c\", \"k',\n",
       "```"
      ]
     },
     {
      "cell_type": "code",
      "execution_count": 3,
      "metadata": {
       "scrolled": true
      },
      "outputs": [
       {
        "name": "stdout",
        "output_type": "stream",
        "text": [
         "ERROR\n"
        ]
       }
      ],
      "source": [
       "try:\n",
       "    tup.extend(('r', 'o', 'n', 'h', 'a', 'c', 'k'))\n",
       "except:\n",
       "    print(\"ERROR\")\n",
       "\n",
       "# Tu explicación aquí\n",
       "# Las tuplas tienen una longitud fija. Si queremos poder extender o reducir la colección debemos usar una lista (ej: tup = [\"I\"])"
      ]
     },
     {
      "cell_type": "markdown",
      "metadata": {},
      "source": [
       "#### ¿Qué tal si reasignas un nuevo valor a una tupla existente?\n",
       "\n",
       "Reasigna los siguientes elementos a `tup`. ¿Puedes hacerlo? Explica.\n",
       "\n",
       "```\n",
       "\"I\", \"r\", \"o\", \"n\", \"h\", \"a\", \"c\", \"k\"\n",
       "```"
      ]
     },
     {
      "cell_type": "code",
      "execution_count": 4,
      "metadata": {},
      "outputs": [],
      "source": [
       "tup = ('I', 'r', 'o', 'n', 'h', 'a', 'c', 'k')"
      ]
     },
     {
      "cell_type": "markdown",
      "metadata": {},
      "source": [
       "#### Divide `tup` en `tup1` y `tup2` con 4 elementos en cada una.\n",
       "\n",
       "`tup1` debe ser `(\"I\", \"r\", \"o\", \"n\")` y `tup2` debe ser `(\"h\", \"a\", \"c\", \"k\")`.\n",
       "\n",
       "*Sugerencia: usa números de índice positivos para la asignación de `tup1` y números de índice negativos para la asignación de `tup2`. Los números de índice positivos cuentan desde el principio, mientras que los números de índice negativos cuentan desde el final de la secuencia.*\n",
       "\n",
       "También imprime `tup1` y `tup2`."
      ]
     },
     {
      "cell_type": "code",
      "execution_count": 5,
      "metadata": {},
      "outputs": [
       {
        "name": "stdout",
        "output_type": "stream",
        "text": [
         "('I', 'r', 'o', 'n')\n",
         "('h', 'a', 'c', 'k')\n"
        ]
       }
      ],
      "source": [
       "def chunk(lst, size=1):\n",
       "    tupchunks = [[]]\n",
       "    for i in range(0, len(lst)):\n",
       "        last = tupchunks[len(tupchunks) - 1]\n",
       "        if len(last) >= size:\n",
       "            if (i < len(lst) - 1):\n",
       "                tupchunks.append([lst[i]])\n",
       "            continue\n",
       "        last.append(lst[i])\n",
       "    return map(lambda x: tuple(x),tupchunks)\n",
       "\n",
       "(tup1, tup2) = chunk(tup, 4)\n",
       "\n",
       "print(tup1)\n",
       "print(tup2)"
      ]
     },
     {
      "cell_type": "markdown",
      "metadata": {},
      "source": [
       "#### Suma `tup1` y `tup2` en `tup3` usando el operador `+`.\n",
       "\n",
       "Luego imprime `tup3` y verifica si `tup3` es igual a `tup`."
      ]
     },
     {
      "cell_type": "code",
      "execution_count": 6,
      "metadata": {},
      "outputs": [
       {
        "name": "stdout",
        "output_type": "stream",
        "text": [
         "('I', 'r', 'o', 'n', 'h', 'a', 'c', 'k')\n"
        ]
       }
      ],
      "source": [
       "tup3 = tup1 + tup2\n",
       "\n",
       "print(tup3)"
      ]
     },
     {
      "cell_type": "markdown",
      "metadata": {},
      "source": [
       "#### Cuenta el número de elementos en `tup1` y `tup2`. Luego suma los dos conteos y verifica si la suma es igual al número de elementos en `tup3`."
      ]
     },
     {
      "cell_type": "code",
      "execution_count": 7,
      "metadata": {},
      "outputs": [
       {
        "name": "stdout",
        "output_type": "stream",
        "text": [
         "Sí, las longitudes son iguales\n"
        ]
       }
      ],
      "source": [
       "count_tup1 = len(tup1)\n",
       "count_tup2 = len(tup2)\n",
       "\n",
       "count = count_tup1 + count_tup2\n",
       "\n",
       "if len(tup3) == count:\n",
       "    print(\"Sí, las longitudes son iguales\")\n",
       "else:\n",
       "    print(\"No, no son iguales\");"
      ]
     },
     {
      "cell_type": "markdown",
      "metadata": {},
      "source": [
       "#### ¿Cuál es el número de índice de `\"h\"` en `tup3`?"
      ]
     },
     {
      "cell_type": "code",
      "execution_count": 8,
      "metadata": {},
      "outputs": [
       {
        "name": "stdout",
        "output_type": "stream",
        "text": [
         "4\n"
        ]
       }
      ],
      "source": [
       "h_index = tup3.index('h')\n",
       "print(h_index)"
      ]
     },
     {
      "cell_type": "markdown",
      "metadata": {},
      "source": [
       "#### Ahora, usa un bucle FOR para verificar si cada letra en la siguiente lista está presente en `tup3`:\n",
       "\n",
       "\n",
       "```\n",
       "letters = [\"a\", \"b\", \"c\", \"d\", \"e\"]\n",
       "```\n",
       "\n",
       "\n",
       "Para cada letra que verifiques, imprime `True` si está presente en `tup3`, de lo contrario imprime `False`.\n",
       "\n",
       "*Sugerencia: solo necesitas hacer un bucle con `letters`. No necesitas hacer un bucle con `tup3` porque hay un operador de Python `in` que puedes usar. Consulta la [referencia](https://stackoverflow.com/questions/17920147/how-to-check-if-a-tuple-contains-an-element-in-python).*"
      ]
     },
     {
      "cell_type": "code",
      "execution_count": 9,
      "metadata": {},
      "outputs": [
       {
        "name": "stdout",
        "output_type": "stream",
        "text": [
         "Letter a\n",
         "True\n",
         "Letter b\n",
         "False\n",
         "Letter c\n",
         "True\n",
         "Letter d\n",
         "False\n",
         "Letter e\n",
         "False\n"
        ]
       }
      ],
      "source": [
       "letters = [\"a\", \"b\", \"c\", \"d\", \"e\"]\n",
       "\n",
       "for letter in letters:\n",
       "    print(\"Letter \" + letter)\n",
       "    found = letter in tup3\n",
       "    print(found)"
      ]
     },
     {
      "cell_type": "markdown",
      "metadata": {},
      "source": [
       "#### ¿Cuántas veces aparece cada letra de `letters` en `tup3`?\n",
       "\n",
       "Imprime el número de ocurrencias de cada letra."
      ]
     },
     {
      "cell_type": "code",
      "execution_count": 10,
      "metadata": {},
      "outputs": [
       {
        "name": "stdout",
        "output_type": "stream",
        "text": [
         "a aparece 1 veces\n",
         "b aparece 0 veces\n",
         "c aparece 1 veces\n",
         "d aparece 0 veces\n",
         "e aparece 0 veces\n"
        ]
       }
      ],
      "source": [
       "for letter in letters:\n",
       "    count = 0\n",
       "    for matching_letter in tup3:\n",
       "        if matching_letter == letter:\n",
       "            count = count + 1\n",
       "            \n",
       "    print(letter + \" aparece \" + str(count) + \" veces\")\n",
       "        \n",
       "    "
      ]
     },
     {
      "cell_type": "markdown",
      "metadata": {},
      "source": [
       "## Desafío 2: Conjuntos\n",
       "\n",
       "Hay mucho que aprender sobre los Conjuntos en Python y la información presentada en la lección es limitada debido a su longitud. Para aprender a fondo sobre los Conjuntos en Python, te recomendamos encarecidamente que revises el tutorial de W3Schools sobre [Ejemplos y Métodos de Conjuntos en Python](https://www.w3schools.com/python/python_sets.asp) antes de trabajar en este laboratorio. Algunas preguntas difíciles de este laboratorio tienen sus soluciones en el tutorial de W3Schools.\n",
       "\n",
       "#### Primero, importa la biblioteca `random` de Python."
      ]
     },
     {
      "cell_type": "code",
      "execution_count": 11,
      "metadata": {},
      "outputs": [],
      "source": [
       "import random"
      ]
     },
     {
      "cell_type": "markdown",
      "metadata": {},
      "source": [
       "#### En la celda de abajo, crea una lista llamada `sample_list_1` con 80 valores aleatorios.\n",
       "\n",
       "Requisitos:\n",
       "\n",
       "* Cada valor es un entero entre 0 y 100.\n",
       "* Cada valor en la lista es único.\n",
       "\n",
       "Imprime `sample_list_1` para revisar sus valores.\n",
       "\n",
       "*Sugerencia: usa `random.sample` ([referencia](https://docs.python.org/3/library/random.html#random.sample)).*"
      ]
     },
     {
      "cell_type": "code",
      "execution_count": 12,
      "metadata": {},
      "outputs": [
       {
        "name": "stdout",
        "output_type": "stream",
        "text": [
         "[49, 58, 28, 87, 33, 16, 50, 20, 96, 65, 54, 46, 78, 88, 40, 9, 62, 66, 74, 64, 44, 32, 95, 90, 70, 15, 51, 43, 80, 97, 71, 11, 99, 24, 85, 36, 8, 27, 5, 23, 12, 75, 82, 41, 72, 10, 2, 86, 84, 45, 98, 17, 29, 52, 39, 26, 19, 63, 48, 55, 31, 25, 30, 59, 92, 1, 67, 83, 79, 34, 0, 100, 89, 57, 18, 69, 14, 47, 73, 6]\n"
        ]
       }
      ],
      "source": [
       "sample_list_1 = random.sample(range(0,101),k=80)\n",
       "print(sample_list_1)"
      ]
     },
     {
      "cell_type": "markdown",
      "metadata": {},
      "source": [
       "#### Convierte `sample_list_1` en un conjunto llamado `set1`. Imprime la longitud del conjunto. ¿Su longitud sigue siendo 80?"
      ]
     },
     {
      "cell_type": "code",
      "execution_count": 13,
      "metadata": {},
      "outputs": [
       {
        "name": "stdout",
        "output_type": "stream",
        "text": [
         "80\n"
        ]
       }
      ],
      "source": [
       "set1 = set(sample_list_1)\n",
       "\n",
       "print(len(set1))\n",
       "\n",
       "# Sí"
      ]
     },
     {
      "cell_type": "markdown",
      "metadata": {},
      "source": [
       "#### Crea otra lista llamada `sample_list_2` con 80 valores aleatorios.\n",
       "\n",
       "Requisitos:\n",
       "\n",
       "* Cada valor es un entero entre 0 y 100.\n",
       "* Los valores en la lista no tienen que ser únicos.\n",
       "\n",
       "*Sugerencia: Usa un bucle FOR.*"
      ]
     },
     {
      "cell_type": "code",
      "execution_count": 14,
      "metadata": {},
      "outputs": [
       {
        "name": "stdout",
        "output_type": "stream",
        "text": [
         "[15, 97, 28, 63, 49, 96, 83, 10, 12, 11, 8, 59, 57, 34, 64, 32, 99, 36, 89, 25, 25, 70, 55, 61, 73, 16, 59, 97, 70, 38, 84, 2, 80, 10, 38, 1, 46, 47, 71, 68, 53, 48, 54, 96, 38, 90, 63, 18, 2, 39, 40, 65, 66, 19, 29, 21, 85, 51, 5, 79, 56, 77, 70, 70, 29, 14, 41, 38, 88, 30, 75, 47, 73, 25, 83, 61, 14, 6, 44, 34]\n"
        ]
       }
      ],
      "source": [
       "sample_list_2 = []\n",
       "\n",
       "for i in range(0,80):\n",
       "    sample_list_2.append(random.sample(range(0,101),k=1)[0])\n",
       "\n",
       "print(sample_list_2)"
      ]
     },
     {
      "cell_type": "markdown",
      "metadata": {},
      "source": [
       "#### Convierte `sample_list_2` en un conjunto llamado `set2`. Imprime la longitud del conjunto. ¿Su longitud sigue siendo 80?"
      ]
     },
     {
      "cell_type": "code",
      "execution_count": 15,
      "metadata": {},
      "outputs": [
       {
        "name": "stdout",
        "output_type": "stream",
        "text": [
         "59\n"
        ]
       }
      ],
      "source": [
       "set2 = set(sample_list_2)\n",
       "\n",
       "print(len(set2))\n",
       "\n",
       "# No siempre. Los sets son listas sin valores repetidos.\n",
       "# Eso hace que, si la lista original contenía valores repetidos, la longitud se reduce (a la cantidad de valores únicos)."
      ]
     },
     {
      "cell_type": "markdown",
      "metadata": {},
      "source": [
       "#### Identifica los elementos presentes en `set1` pero no en `set2`. Asigna los elementos a un nuevo conjunto llamado `set3`."
      ]
     },
     {
      "cell_type": "code",
      "execution_count": 16,
      "metadata": {},
      "outputs": [
       {
        "name": "stdout",
        "output_type": "stream",
        "text": [
         "{0, 9, 17, 20, 23, 24, 26, 27, 31, 33, 43, 45, 50, 52, 58, 62, 67, 69, 72, 74, 78, 82, 86, 87, 92, 95, 98, 100}\n"
        ]
       }
      ],
      "source": [
       "set3 = set()\n",
       "\n",
       "for el in set1:\n",
       "    if el not in set2:\n",
       "        set3.add(el)\n",
       "\n",
       "print(set3)"
      ]
     },
     {
      "cell_type": "markdown",
      "metadata": {},
      "source": [
       "#### Identifica los elementos presentes en `set2` pero no en `set1`. Asigna los elementos a un nuevo conjunto llamado `set4`."
      ]
     },
     {
      "cell_type": "code",
      "execution_count": 17,
      "metadata": {},
      "outputs": [
       {
        "name": "stdout",
        "output_type": "stream",
        "text": [
         "{68, 38, 77, 53, 21, 56, 61}\n"
        ]
       }
      ],
      "source": [
       "set4 = set()\n",
       "\n",
       "for el in set2:\n",
       "    if el not in set1:\n",
       "        set4.add(el)\n",
       "\n",
       "print(set4)"
      ]
     },
     {
      "cell_type": "markdown",
      "metadata": {},
      "source": [
       "#### Ahora identifica los elementos compartidos entre `set1` y `set2`. Asigna los elementos a un nuevo conjunto llamado `set5`."
      ]
     },
     {
      "cell_type": "code",
      "execution_count": 18,
      "metadata": {},
      "outputs": [
       {
        "name": "stdout",
        "output_type": "stream",
        "text": [
         "{1, 2, 5, 6, 8, 10, 11, 12, 14, 15, 16, 18, 19, 25, 28, 29, 30, 32, 34, 36, 39, 40, 41, 44, 46, 47, 48, 49, 51, 54, 55, 57, 59, 63, 64, 65, 66, 70, 71, 73, 75, 79, 80, 83, 84, 85, 88, 89, 90, 96, 97, 99}\n"
        ]
       }
      ],
      "source": [
       "set5 = set()\n",
       "\n",
       "for set1_el in set1:\n",
       "    for set2_el in set2:\n",
       "        if set1_el == set2_el:\n",
       "            set5.add(set1_el)\n",
       "\n",
       "print(set5)"
      ]
     },
     {
      "cell_type": "markdown",
      "metadata": {},
      "source": [
       "#### ¿Cuál es la relación entre los siguientes valores?\n",
       "\n",
       "* len(set1)\n",
       "* len(set2)\n",
       "* len(set3)\n",
       "* len(set4)\n",
       "* len(set5)\n",
       "\n",
       "Usa una fórmula matemática para representar esa relación. Prueba tu fórmula con código Python."
      ]
     },
     {
      "cell_type": "code",
      "execution_count": 19,
      "metadata": {},
      "outputs": [],
      "source": [
       "# tu codigo aquí"
      ]
     },
     {
      "cell_type": "markdown",
      "metadata": {},
      "source": [
       "#### Crea un conjunto vacío llamado `set6`."
      ]
     },
     {
      "cell_type": "code",
      "execution_count": 20,
      "metadata": {},
      "outputs": [],
      "source": [
       "set6 = set()"
      ]
     },
     {
      "cell_type": "markdown",
      "metadata": {},
      "source": [
       "#### Añade `set3` y `set5` a `set6` usando el método `update` de los Conjuntos de Python."
      ]
     },
     {
      "cell_type": "code",
      "execution_count": 21,
      "metadata": {},
      "outputs": [
       {
        "name": "stdout",
        "output_type": "stream",
        "text": [
         "{0, 1, 2, 5, 6, 8, 9, 10, 11, 12, 14, 15, 16, 17, 18, 19, 20, 23, 24, 25, 26, 27, 28, 29, 30, 31, 32, 33, 34, 36, 39, 40, 41, 43, 44, 45, 46, 47, 48, 49, 50, 51, 52, 54, 55, 57, 58, 59, 62, 63, 64, 65, 66, 67, 69, 70, 71, 72, 73, 74, 75, 78, 79, 80, 82, 83, 84, 85, 86, 87, 88, 89, 90, 92, 95, 96, 97, 98, 99, 100}\n"
        ]
       }
      ],
      "source": [
       "set6.update(set3)\n",
       "set6.update(set5)\n",
       "\n",
       "print(set6)"
      ]
     },
     {
      "cell_type": "markdown",
      "metadata": {},
      "source": [
       "#### Verifica si `set1` y `set6` son iguales."
      ]
     },
     {
      "cell_type": "code",
      "execution_count": 22,
      "metadata": {},
      "outputs": [
       {
        "name": "stdout",
        "output_type": "stream",
        "text": [
         "True\n"
        ]
       }
      ],
      "source": [
       "print(set1 == set6) # Sí, son iguales"
      ]
     },
     {
      "cell_type": "markdown",
      "metadata": {},
      "source": [
       "#### Comprueba si `set1` contiene a `set2` utilizando el método `issubset` de los Conjuntos de Python. Luego verifica si `set1` contiene a `set3`."
      ]
     },
     {
      "cell_type": "code",
      "execution_count": 23,
      "metadata": {},
      "outputs": [
       {
        "name": "stdout",
        "output_type": "stream",
        "text": [
         "False\n",
         "True\n"
        ]
       }
      ],
      "source": [
       "print(set2.issubset(set1))\n",
       "print(set3.issubset(set1))"
      ]
     },
     {
      "cell_type": "markdown",
      "metadata": {},
      "source": [
       "#### Utilizando el método `union` de los Conjuntos de Python, agrega `set3`, `set4` y `set5`. Luego agrega `set1` y `set2`.\n",
       "\n",
       "#### Verifica si los valores agregados son iguales."
      ]
     },
     {
      "cell_type": "code",
      "execution_count": 25,
      "metadata": {},
      "outputs": [
       {
        "name": "stdout",
        "output_type": "stream",
        "text": [
         "True\n"
        ]
       }
      ],
      "source": [
       "united1 = set3.union(set4, set5)\n",
       "united2 = united1.union(set1, set2)\n",
       "\n",
       "print(united1 == united2)"
      ]
     },
     {
      "cell_type": "markdown",
      "metadata": {},
      "source": [
       "#### Utilizando el método `pop`, elimina el primer elemento de `set1`."
      ]
     },
     {
      "cell_type": "code",
      "execution_count": 26,
      "metadata": {},
      "outputs": [
       {
        "data": {
         "text/plain": [
          "0"
         ]
        },
        "execution_count": 26,
        "metadata": {},
        "output_type": "execute_result"
       }
      ],
      "source": [
       "set1.pop()"
      ]
     },
     {
      "cell_type": "markdown",
      "metadata": {},
      "source": [
       "#### Elimina cada elemento en la siguiente lista de `set1` si están presentes en el conjunto. Imprime los elementos restantes.\n",
       "\n",
       "```\n",
       "list_to_remove = [1, 9, 11, 19, 21, 29, 31, 39, 41, 49, 51, 59, 61, 69, 71, 79, 81, 89, 91, 99]\n",
       "```"
      ]
     },
     {
      "cell_type": "code",
      "execution_count": 30,
      "metadata": {},
      "outputs": [
       {
        "name": "stdout",
        "output_type": "stream",
        "text": [
         "{2, 5, 6, 8, 10, 12, 14, 15, 16, 17, 18, 20, 23, 24, 25, 26, 27, 28, 30, 32, 33, 34, 36, 40, 43, 44, 45, 46, 47, 48, 50, 52, 54, 55, 57, 58, 62, 63, 64, 65, 66, 67, 70, 72, 73, 74, 75, 78, 80, 82, 83, 84, 85, 86, 87, 88, 90, 92, 95, 96, 97, 98, 100}\n"
        ]
       }
      ],
      "source": [
       "list_to_remove = [1, 9, 11, 19, 21, 29, 31, 39, 41, 49, 51, 59, 61, 69, 71, 79, 81, 89, 91, 99]\n",
       "\n",
       "for el in list_to_remove:\n",
       "    if el in set1:\n",
       "        set1.remove(el)\n",
       "\n",
       "print(set1)"
      ]
     },
     {
      "cell_type": "markdown",
      "metadata": {},
      "source": [
       "## BONUS - Desafío 3: Diccionarios\n",
       "\n",
       "En este desafío practicarás cómo manipular diccionarios en Python. Antes de empezar este desafío, te animamos a revisar los [Ejemplos y Métodos de Diccionarios en Python](https://www.w3schools.com/python/python_dictionaries.asp) de W3School.\n",
       "\n",
       "Lo primero que practicarás es cómo ordenar las claves en un diccionario. A diferencia del objeto de lista, el diccionario de Python no tiene un método *sort* incorporado. Necesitarás usar bucles FOR para ordenar los diccionarios ya sea por clave o por valor.\n",
       "\n",
       "El diccionario a continuación es un resumen de la frecuencia de palabras de la canción *Shape of You* de Ed Sheeran. Cada clave es una palabra en la letra y el valor es el número de veces que esa palabra aparece en la letra."
      ]
     },
     {
      "cell_type": "code",
      "execution_count": 32,
      "metadata": {},
      "outputs": [],
      "source": [
       "word_freq = {'love': 25, 'conversation': 1, 'every': 6, \"we're\": 1, 'plate': 1, 'sour': 1, 'jukebox': 1, 'now': 11, 'taxi': 1, 'fast': 1, 'bag': 1, 'man': 1, 'push': 3, 'baby': 14, 'going': 1, 'you': 16, \"don't\": 2, 'one': 1, 'mind': 2, 'backseat': 1, 'friends': 1, 'then': 3, 'know': 2, 'take': 1, 'play': 1, 'okay': 1, 'so': 2, 'begin': 1, 'start': 2, 'over': 1, 'body': 17, 'boy': 2, 'just': 1, 'we': 7, 'are': 1, 'girl': 2, 'tell': 1, 'singing': 2, 'drinking': 1, 'put': 3, 'our': 1, 'where': 1, \"i'll\": 1, 'all': 1, \"isn't\": 1, 'make': 1, 'lover': 1, 'get': 1, 'radio': 1, 'give': 1, \"i'm\": 23, 'like': 10, 'can': 1, 'doing': 2, 'with': 22, 'club': 1, 'come': 37, 'it': 1, 'somebody': 2, 'handmade': 2, 'out': 1, 'new': 6, 'room': 3, 'chance': 1, 'follow': 6, 'in': 27, 'may': 2, 'brand': 6, 'that': 2, 'magnet': 3, 'up': 3, 'first': 1, 'and': 23, 'pull': 3, 'of': 6, 'table': 1, 'much': 2, 'last': 3, 'i': 6, 'thrifty': 1, 'grab': 2, 'was': 2, 'driver': 1, 'slow': 1, 'dance': 1, 'the': 18, 'say': 2, 'trust': 1, 'family': 1, 'week': 1, 'date': 1, 'me': 10, 'do': 3, 'waist': 2, 'smell': 3, 'day': 6, 'although': 3, 'your': 21, 'leave': 1, 'want': 2, \"let's\": 2, 'lead': 6, 'at': 1, 'hand': 1, 'how': 1, 'talk': 4, 'not': 2, 'eat': 1, 'falling': 3, 'about': 1, 'story': 1, 'sweet': 1, 'best': 1, 'crazy': 2, 'let': 1, 'too': 5, 'van': 1, 'shots': 1, 'go': 2, 'to': 2, 'a': 8, 'my': 33, 'is': 5, 'place': 1, 'find': 1, 'shape': 6, 'on': 40, 'kiss': 1, 'were': 3, 'night': 3, 'heart': 3, 'for': 3, 'discovering': 6, 'something': 6, 'be': 16, 'bedsheets': 3, 'fill': 2, 'hours': 2, 'stop': 1, 'bar': 1}"
      ]
     },
     {
      "cell_type": "markdown",
      "metadata": {},
      "source": [
       "#### Ordena las claves de `word_freq` de forma ascendente.\n",
       "\n",
       "Por favor, crea un nuevo diccionario llamado `word_freq2` basado en `word_freq` con las claves ordenadas de forma ascendente.\n",
       "\n",
       "Hay varias formas de lograr ese objetivo, pero muchas de ellas van más allá de lo que hemos cubierto hasta ahora en el curso. Hay una forma que describiremos empleando lo que has aprendido. Por favor, siéntete libre de usar esta forma o cualquier otra que desees.\n",
       "\n",
       "1. Primero extrae las claves de `word_freq` y conviértelas en una lista llamada `keys`.\n",
       "\n",
       "1. Ordena la lista `keys`.\n",
       "\n",
       "1. Crea un diccionario vacío `word_freq2`.\n",
       "\n",
       "1. Usa un bucle FOR para iterar cada valor en `keys`. Para cada clave iterada, encuentra el valor correspondiente en `word_freq` e inserta el par clave-valor en `word_freq2`.\n",
       "\n",
       "📖 [Documentación para un bucle for](https://docs.python.org/3/reference/compound_stmts.html#for)\n",
       "\n",
       "Imprime `word_freq2` para examinar sus claves y valores. Tu salida debería ser:\n",
       "\n",
       "```python\n",
       "{'a': 8, 'about': 1, 'all': 1, 'although': 3, 'and': 23, 'are': 1, 'at': 1, 'baby': 14, 'backseat': 1, 'bag': 1, 'bar': 1, 'be': 16, 'bedsheets': 3, 'begin': 1, 'best': 1, 'body': 17, 'boy': 2, 'brand': 6, 'can': 1, 'chance': 1, 'club': 1, 'come': 37, 'conversation': 1, 'crazy': 2, 'dance': 1, 'date': 1, 'day': 6, 'discovering': 6, 'do': 3, 'doing': 2, \"don't\": 2, 'drinking': 1, 'driver': 1, 'eat': 1, 'every': 6, 'falling': 3, 'family': 1, 'fast': 1, 'fill': 2, 'find': 1, 'first': 1, 'follow': 6, 'for': 3, 'friends': 1, 'get': 1, 'girl': 2, 'give': 1, 'go': 2, 'going': 1, 'grab': 2, 'hand': 1, 'handmade': 2, 'heart': 3, 'hours': 2, 'how': 1, 'i': 6, \"i'll\": 1, \"i'm\": 23, 'in': 27, 'is': 5, \"isn't\": 1, 'it': 1, 'jukebox': 1, 'just': 1, 'kiss': 1, 'know': 2, 'last': 3, 'lead': 6, 'leave': 1, 'let': 1, \"let's\": 2, 'like': 10, 'love': 25, 'lover': 1, 'magnet': 3, 'make': 1, 'man': 1, 'may': 2, 'me': 10, 'mind': 2, 'much': 2, 'my': 33, 'new': 6, 'night': 3, 'not': 2, 'now': 11, 'of': 6, 'okay': 1, 'on': 40, 'one': 1, 'our': 1, 'out': 1, 'over': 1, 'place': 1, 'plate': 1, 'play': 1, 'pull': 3, 'push': 3, 'put': 3, 'radio': 1, 'room': 3, 'say': 2, 'shape': 6, 'shots': 1, 'singing': 2, 'slow': 1, 'smell': 3, 'so': 2, 'somebody': 2, 'something': 6, 'sour': 1, 'start': 2, 'stop': 1, 'story': 1, 'sweet': 1, 'table': 1, 'take': 1, 'talk': 4, 'taxi': 1, 'tell': 1, 'that': 2, 'the': 18, 'then': 3, 'thrifty': 1, 'to': 2, 'too': 5, 'trust': 1, 'up': 3, 'van': 1, 'waist': 2, 'want': 2, 'was': 2, 'we': 7, \"we're\": 1, 'week': 1, 'were': 3, 'where': 1, 'with': 22, 'you': 16, 'your': 21}\n",
       "```"
      ]
     },
     {
      "cell_type": "code",
      "execution_count": 41,
      "metadata": {},
      "outputs": [
       {
        "name": "stdout",
        "output_type": "stream",
        "text": [
         "{'a': 8, 'about': 1, 'all': 1, 'although': 3, 'and': 23, 'are': 1, 'at': 1, 'baby': 14, 'backseat': 1, 'bag': 1, 'bar': 1, 'be': 16, 'bedsheets': 3, 'begin': 1, 'best': 1, 'body': 17, 'boy': 2, 'brand': 6, 'can': 1, 'chance': 1, 'club': 1, 'come': 37, 'conversation': 1, 'crazy': 2, 'dance': 1, 'date': 1, 'day': 6, 'discovering': 6, 'do': 3, 'doing': 2, \"don't\": 2, 'drinking': 1, 'driver': 1, 'eat': 1, 'every': 6, 'falling': 3, 'family': 1, 'fast': 1, 'fill': 2, 'find': 1, 'first': 1, 'follow': 6, 'for': 3, 'friends': 1, 'get': 1, 'girl': 2, 'give': 1, 'go': 2, 'going': 1, 'grab': 2, 'hand': 1, 'handmade': 2, 'heart': 3, 'hours': 2, 'how': 1, 'i': 6, \"i'll\": 1, \"i'm\": 23, 'in': 27, 'is': 5, \"isn't\": 1, 'it': 1, 'jukebox': 1, 'just': 1, 'kiss': 1, 'know': 2, 'last': 3, 'lead': 6, 'leave': 1, 'let': 1, \"let's\": 2, 'like': 10, 'love': 25, 'lover': 1, 'magnet': 3, 'make': 1, 'man': 1, 'may': 2, 'me': 10, 'mind': 2, 'much': 2, 'my': 33, 'new': 6, 'night': 3, 'not': 2, 'now': 11, 'of': 6, 'okay': 1, 'on': 40, 'one': 1, 'our': 1, 'out': 1, 'over': 1, 'place': 1, 'plate': 1, 'play': 1, 'pull': 3, 'push': 3, 'put': 3, 'radio': 1, 'room': 3, 'say': 2, 'shape': 6, 'shots': 1, 'singing': 2, 'slow': 1, 'smell': 3, 'so': 2, 'somebody': 2, 'something': 6, 'sour': 1, 'start': 2, 'stop': 1, 'story': 1, 'sweet': 1, 'table': 1, 'take': 1, 'talk': 4, 'taxi': 1, 'tell': 1, 'that': 2, 'the': 18, 'then': 3, 'thrifty': 1, 'to': 2, 'too': 5, 'trust': 1, 'up': 3, 'van': 1, 'waist': 2, 'want': 2, 'was': 2, 'we': 7, \"we're\": 1, 'week': 1, 'were': 3, 'where': 1, 'with': 22, 'you': 16, 'your': 21}\n"
        ]
       }
      ],
      "source": [
       "word_freq2 = dict()\n",
       "keys = sorted(list(word_freq.keys()))\n",
       "\n",
       "for key in keys:\n",
       "    word_freq2[key] = word_freq[key]\n",
       "\n",
       "print(word_freq2)"
      ]
     },
     {
      "cell_type": "markdown",
      "metadata": {},
      "source": [
       "#### Ordena los valores de `word_freq` de forma ascendente.\n",
       "\n",
       "Ordenar los valores de un diccionario es más complicado que ordenar las claves porque los valores de un diccionario no son únicos. Por lo tanto, no puedes usar la misma forma en que ordenaste las claves del diccionario para ordenar los valores del diccionario.\n",
       "\n",
       "La forma de ordenar un diccionario por valor es utilizar las funciones `sorted` y `operator.itemgetter`. El siguiente fragmento de código se te proporciona para que lo pruebes. Te dará una lista de tuplas en la que cada tupla contiene la clave y el valor de un elemento del diccionario. Y la lista está ordenada basada en el valor del diccionario ( [referencia](http://thomas-cokelaer.info/blog/2017/12/how-to-sort-a-dictionary-by-values-in-python/)\n",
       ").\n",
       "\n",
       "```python\n",
       "import operator\n",
       "sorted_tups = sorted(word_freq.items(), key=operator.itemgetter(1))\n",
       "print(sorted_tups)\n",
       "```\n",
       "\n",
       "Por lo tanto, los pasos para ordenar `word_freq` por valor son:\n",
       "\n",
       "* Utilizando `sorted` y `operator.itemgetter`, obtén una lista de tuplas de los pares clave-valor del diccionario que está ordenada por el valor.\n",
       "\n",
       "* Crea un diccionario vacío llamado `word_freq2`.\n",
       "\n",
       "* Itera la lista de tuplas. Inserta cada par clave-valor en `word_freq2` como un objeto.\n",
       "\n",
       "Imprime `word_freq2` para confirmar que tu diccionario tiene sus valores ordenados. Tu salida debería ser:\n",
       "\n",
       "```python\n",
       "{'conversation': 1, \"we're\": 1, 'plate': 1, 'sour': 1, 'jukebox': 1, 'taxi': 1, 'fast': 1, 'bag': 1, 'man': 1, 'going': 1, 'one': 1, 'backseat': 1, 'friends': 1, 'take': 1, 'play': 1, 'okay': 1, 'begin': 1, 'over': 1, 'just': 1, 'are': 1, 'tell': 1, 'drinking': 1, 'our': 1, 'where': 1, \"i'll\": 1, 'all': 1, \"isn't\": 1, 'make': 1, 'lover': 1, 'get': 1, 'radio': 1, 'give': 1, 'can': 1, 'club': 1, 'it': 1, 'out': 1, 'chance': 1, 'first': 1, 'table': 1, 'thrifty': 1, 'driver': 1, 'slow': 1, 'dance': 1, 'trust': 1, 'family': 1, 'week': 1, 'date': 1, 'leave': 1, 'at': 1, 'hand': 1, 'how': 1, 'eat': 1, 'about': 1, 'story': 1, 'sweet': 1, 'best': 1, 'let': 1, 'van': 1, 'shots': 1, 'place': 1, 'find': 1, 'kiss': 1, 'stop': 1, 'bar': 1, \"don't\": 2, 'mind': 2, 'know': 2, 'so': 2, 'start': 2, 'boy': 2, 'girl': 2, 'singing': 2, 'doing': 2, 'somebody': 2, 'handmade': 2, 'may': 2, 'that': 2, 'much': 2, 'grab': 2, 'was': 2, 'say': 2, 'waist': 2, 'want': 2, \"let's\": 2, 'not': 2, 'crazy': 2, 'go': 2, 'to': 2, 'fill': 2, 'hours': 2, 'push': 3, 'then': 3, 'put': 3, 'room': 3, 'magnet': 3, 'up': 3, 'pull': 3, 'last': 3, 'do': 3, 'smell': 3, 'although': 3, 'falling': 3, 'were': 3, 'night': 3, 'heart': 3, 'for': 3, 'bedsheets': 3, 'talk': 4, 'too': 5, 'is': 5, 'every': 6, 'new': 6, 'follow': 6, 'brand': 6, 'of': 6, 'i': 6, 'day': 6, 'lead': 6, 'shape': 6, 'discovering': 6, 'something': 6, 'we': 7, 'a': 8, 'like': 10, 'me': 10, 'now': 11, 'baby': 14, 'you': 16, 'be': 16, 'body': 17, 'the': 18, 'your': 21, 'with': 22, \"i'm\": 23, 'and': 23, 'love': 25, 'in': 27, 'my': 33, 'come': 37, 'on': 40}\n",
       "```"
      ]
     },
     {
      "cell_type": "code",
      "execution_count": 44,
      "metadata": {},
      "outputs": [
       {
        "name": "stdout",
        "output_type": "stream",
        "text": [
         "{'conversation': 1, \"we're\": 1, 'plate': 1, 'sour': 1, 'jukebox': 1, 'taxi': 1, 'fast': 1, 'bag': 1, 'man': 1, 'going': 1, 'one': 1, 'backseat': 1, 'friends': 1, 'take': 1, 'play': 1, 'okay': 1, 'begin': 1, 'over': 1, 'just': 1, 'are': 1, 'tell': 1, 'drinking': 1, 'our': 1, 'where': 1, \"i'll\": 1, 'all': 1, \"isn't\": 1, 'make': 1, 'lover': 1, 'get': 1, 'radio': 1, 'give': 1, 'can': 1, 'club': 1, 'it': 1, 'out': 1, 'chance': 1, 'first': 1, 'table': 1, 'thrifty': 1, 'driver': 1, 'slow': 1, 'dance': 1, 'trust': 1, 'family': 1, 'week': 1, 'date': 1, 'leave': 1, 'at': 1, 'hand': 1, 'how': 1, 'eat': 1, 'about': 1, 'story': 1, 'sweet': 1, 'best': 1, 'let': 1, 'van': 1, 'shots': 1, 'place': 1, 'find': 1, 'kiss': 1, 'stop': 1, 'bar': 1, \"don't\": 2, 'mind': 2, 'know': 2, 'so': 2, 'start': 2, 'boy': 2, 'girl': 2, 'singing': 2, 'doing': 2, 'somebody': 2, 'handmade': 2, 'may': 2, 'that': 2, 'much': 2, 'grab': 2, 'was': 2, 'say': 2, 'waist': 2, 'want': 2, \"let's\": 2, 'not': 2, 'crazy': 2, 'go': 2, 'to': 2, 'fill': 2, 'hours': 2, 'push': 3, 'then': 3, 'put': 3, 'room': 3, 'magnet': 3, 'up': 3, 'pull': 3, 'last': 3, 'do': 3, 'smell': 3, 'although': 3, 'falling': 3, 'were': 3, 'night': 3, 'heart': 3, 'for': 3, 'bedsheets': 3, 'talk': 4, 'too': 5, 'is': 5, 'every': 6, 'new': 6, 'follow': 6, 'brand': 6, 'of': 6, 'i': 6, 'day': 6, 'lead': 6, 'shape': 6, 'discovering': 6, 'something': 6, 'we': 7, 'a': 8, 'like': 10, 'me': 10, 'now': 11, 'baby': 14, 'you': 16, 'be': 16, 'body': 17, 'the': 18, 'your': 21, 'with': 22, \"i'm\": 23, 'and': 23, 'love': 25, 'in': 27, 'my': 33, 'come': 37, 'on': 40}\n"
        ]
       }
      ],
      "source": [
       "import operator\n",
       "\n",
       "word_freq2 = dict()\n",
       "\n",
       "tups = sorted(word_freq.items(), key=operator.itemgetter(1))\n",
       "\n",
       "for (key, value) in tups:\n",
       "    word_freq2[key] = value\n",
       "\n",
       "print(word_freq2)"
      ]
     },
     {
      "cell_type": "code",
      "execution_count": null,
      "metadata": {},
      "outputs": [],
      "source": []
     }
    ],
    "metadata": {
     "kernelspec": {
      "display_name": "Python 3 (ipykernel)",
      "language": "python",
      "name": "python3"
     },
     "language_info": {
      "codemirror_mode": {
       "name": "ipython",
       "version": 3
      },
      "file_extension": ".py",
      "mimetype": "text/x-python",
      "name": "python",
      "nbconvert_exporter": "python",
      "pygments_lexer": "ipython3",
      "version": "3.12.2"
     },
     "vscode": {
      "interpreter": {
       "hash": "aee8b7b246df8f9039afb4144a1f6fd8d2ca17a180786b69acc140d282b71a49"
      }
     }
    },
    "nbformat": 4,
    "nbformat_minor": 4
   }
   